{
  "nbformat": 4,
  "nbformat_minor": 0,
  "metadata": {
    "colab": {
      "provenance": [],
      "authorship_tag": "ABX9TyMUpC6TCzr6PenxCAHe1ror",
      "include_colab_link": true
    },
    "kernelspec": {
      "name": "python3",
      "display_name": "Python 3"
    },
    "language_info": {
      "name": "python"
    }
  },
  "cells": [
    {
      "cell_type": "markdown",
      "metadata": {
        "id": "view-in-github",
        "colab_type": "text"
      },
      "source": [
        "<a href=\"https://colab.research.google.com/github/itsmaul/bangkit-capstone/blob/main/All_Integrated.ipynb\" target=\"_parent\"><img src=\"https://colab.research.google.com/assets/colab-badge.svg\" alt=\"Open In Colab\"/></a>"
      ]
    },
    {
      "cell_type": "markdown",
      "source": [
        "# **Cashflow Analysis**"
      ],
      "metadata": {
        "id": "1LbwFDGl45Dr"
      }
    },
    {
      "cell_type": "code",
      "execution_count": null,
      "metadata": {
        "id": "clEBzAkFNOcY"
      },
      "outputs": [],
      "source": [
        "import json\n",
        "import numpy as np\n",
        "import pandas as pd\n",
        "import matplotlib.pyplot as plt\n",
        "\n",
        "from matplotlib.dates import DateFormatter\n",
        "from sklearn.preprocessing import MinMaxScaler"
      ]
    },
    {
      "cell_type": "code",
      "source": [
        "def preprocess_data(data):\n",
        "  # Membaca file dataset\n",
        "  data = pd.DataFrame(pd.read_json(data))\n",
        "\n",
        "  # Menghitung total_income dan total_expense\n",
        "  data['total_income'] = data.apply(lambda x: x['amount'] if x['transaction_type'] == 'Income' else 0, axis=1)\n",
        "  data['total_expense'] = data.apply(lambda x: x['amount'] if x['transaction_type'] == 'Expense' else 0, axis=1)\n",
        "\n",
        "  # Menghitung net_cashflow\n",
        "  data['net_cashflow'] = data['total_income'] - data['total_expense']\n",
        "\n",
        "  # Mengelompokkan berdasarkan bulan\n",
        "  data['month'] = pd.to_datetime(data['date']).dt.to_period('M')\n",
        "\n",
        "  # Menghitung total per bulan\n",
        "  summary = data.groupby('month').agg(\n",
        "    total_income = ('total_income', 'sum'),\n",
        "    total_expense = ('total_expense', 'sum'),\n",
        "    net_cashflow = ('net_cashflow', 'sum')\n",
        "  ).reset_index()\n",
        "\n",
        "  return summary"
      ],
      "metadata": {
        "id": "s-Xv962ZN7Fj"
      },
      "execution_count": null,
      "outputs": []
    },
    {
      "cell_type": "code",
      "source": [
        "preprocess_data('merger_dataset.json')"
      ],
      "metadata": {
        "colab": {
          "base_uri": "https://localhost:8080/",
          "height": 551
        },
        "id": "ZF9wAJPcQrJM",
        "outputId": "d47f62ac-2d41-4a8e-a0ea-92ea75f2fec9"
      },
      "execution_count": null,
      "outputs": [
        {
          "output_type": "execute_result",
          "data": {
            "text/plain": [
              "      month  total_income  total_expense  net_cashflow\n",
              "0   2023-08       1390000        1412950        -22950\n",
              "1   2023-09       1607000        1443530        163470\n",
              "2   2023-10       1510000        1652785       -142785\n",
              "3   2023-11       1200000        1077068        122932\n",
              "4   2023-12       1750000        1829508        -79508\n",
              "5   2024-01       9735000       11400361      -1665361\n",
              "6   2024-02      19201015       18971500        229515\n",
              "7   2024-03       3620000        2670818        949182\n",
              "8   2024-04       6250101        4098822       2151279\n",
              "9   2024-05       4527000        6434944      -1907944\n",
              "10  2024-06       3810000        4157915       -347915\n",
              "11  2024-07      11720000       11100621        619379\n",
              "12  2024-08       9629000        9142500        486500\n",
              "13  2024-09       2000000        3438231      -1438231\n",
              "14  2024-10      13382000       11673752       1708248\n",
              "15  2024-11       9521142        8280550       1240592"
            ],
            "text/html": [
              "\n",
              "  <div id=\"df-e00ad341-6d8e-48cc-bd65-1828148d1925\" class=\"colab-df-container\">\n",
              "    <div>\n",
              "<style scoped>\n",
              "    .dataframe tbody tr th:only-of-type {\n",
              "        vertical-align: middle;\n",
              "    }\n",
              "\n",
              "    .dataframe tbody tr th {\n",
              "        vertical-align: top;\n",
              "    }\n",
              "\n",
              "    .dataframe thead th {\n",
              "        text-align: right;\n",
              "    }\n",
              "</style>\n",
              "<table border=\"1\" class=\"dataframe\">\n",
              "  <thead>\n",
              "    <tr style=\"text-align: right;\">\n",
              "      <th></th>\n",
              "      <th>month</th>\n",
              "      <th>total_income</th>\n",
              "      <th>total_expense</th>\n",
              "      <th>net_cashflow</th>\n",
              "    </tr>\n",
              "  </thead>\n",
              "  <tbody>\n",
              "    <tr>\n",
              "      <th>0</th>\n",
              "      <td>2023-08</td>\n",
              "      <td>1390000</td>\n",
              "      <td>1412950</td>\n",
              "      <td>-22950</td>\n",
              "    </tr>\n",
              "    <tr>\n",
              "      <th>1</th>\n",
              "      <td>2023-09</td>\n",
              "      <td>1607000</td>\n",
              "      <td>1443530</td>\n",
              "      <td>163470</td>\n",
              "    </tr>\n",
              "    <tr>\n",
              "      <th>2</th>\n",
              "      <td>2023-10</td>\n",
              "      <td>1510000</td>\n",
              "      <td>1652785</td>\n",
              "      <td>-142785</td>\n",
              "    </tr>\n",
              "    <tr>\n",
              "      <th>3</th>\n",
              "      <td>2023-11</td>\n",
              "      <td>1200000</td>\n",
              "      <td>1077068</td>\n",
              "      <td>122932</td>\n",
              "    </tr>\n",
              "    <tr>\n",
              "      <th>4</th>\n",
              "      <td>2023-12</td>\n",
              "      <td>1750000</td>\n",
              "      <td>1829508</td>\n",
              "      <td>-79508</td>\n",
              "    </tr>\n",
              "    <tr>\n",
              "      <th>5</th>\n",
              "      <td>2024-01</td>\n",
              "      <td>9735000</td>\n",
              "      <td>11400361</td>\n",
              "      <td>-1665361</td>\n",
              "    </tr>\n",
              "    <tr>\n",
              "      <th>6</th>\n",
              "      <td>2024-02</td>\n",
              "      <td>19201015</td>\n",
              "      <td>18971500</td>\n",
              "      <td>229515</td>\n",
              "    </tr>\n",
              "    <tr>\n",
              "      <th>7</th>\n",
              "      <td>2024-03</td>\n",
              "      <td>3620000</td>\n",
              "      <td>2670818</td>\n",
              "      <td>949182</td>\n",
              "    </tr>\n",
              "    <tr>\n",
              "      <th>8</th>\n",
              "      <td>2024-04</td>\n",
              "      <td>6250101</td>\n",
              "      <td>4098822</td>\n",
              "      <td>2151279</td>\n",
              "    </tr>\n",
              "    <tr>\n",
              "      <th>9</th>\n",
              "      <td>2024-05</td>\n",
              "      <td>4527000</td>\n",
              "      <td>6434944</td>\n",
              "      <td>-1907944</td>\n",
              "    </tr>\n",
              "    <tr>\n",
              "      <th>10</th>\n",
              "      <td>2024-06</td>\n",
              "      <td>3810000</td>\n",
              "      <td>4157915</td>\n",
              "      <td>-347915</td>\n",
              "    </tr>\n",
              "    <tr>\n",
              "      <th>11</th>\n",
              "      <td>2024-07</td>\n",
              "      <td>11720000</td>\n",
              "      <td>11100621</td>\n",
              "      <td>619379</td>\n",
              "    </tr>\n",
              "    <tr>\n",
              "      <th>12</th>\n",
              "      <td>2024-08</td>\n",
              "      <td>9629000</td>\n",
              "      <td>9142500</td>\n",
              "      <td>486500</td>\n",
              "    </tr>\n",
              "    <tr>\n",
              "      <th>13</th>\n",
              "      <td>2024-09</td>\n",
              "      <td>2000000</td>\n",
              "      <td>3438231</td>\n",
              "      <td>-1438231</td>\n",
              "    </tr>\n",
              "    <tr>\n",
              "      <th>14</th>\n",
              "      <td>2024-10</td>\n",
              "      <td>13382000</td>\n",
              "      <td>11673752</td>\n",
              "      <td>1708248</td>\n",
              "    </tr>\n",
              "    <tr>\n",
              "      <th>15</th>\n",
              "      <td>2024-11</td>\n",
              "      <td>9521142</td>\n",
              "      <td>8280550</td>\n",
              "      <td>1240592</td>\n",
              "    </tr>\n",
              "  </tbody>\n",
              "</table>\n",
              "</div>\n",
              "    <div class=\"colab-df-buttons\">\n",
              "\n",
              "  <div class=\"colab-df-container\">\n",
              "    <button class=\"colab-df-convert\" onclick=\"convertToInteractive('df-e00ad341-6d8e-48cc-bd65-1828148d1925')\"\n",
              "            title=\"Convert this dataframe to an interactive table.\"\n",
              "            style=\"display:none;\">\n",
              "\n",
              "  <svg xmlns=\"http://www.w3.org/2000/svg\" height=\"24px\" viewBox=\"0 -960 960 960\">\n",
              "    <path d=\"M120-120v-720h720v720H120Zm60-500h600v-160H180v160Zm220 220h160v-160H400v160Zm0 220h160v-160H400v160ZM180-400h160v-160H180v160Zm440 0h160v-160H620v160ZM180-180h160v-160H180v160Zm440 0h160v-160H620v160Z\"/>\n",
              "  </svg>\n",
              "    </button>\n",
              "\n",
              "  <style>\n",
              "    .colab-df-container {\n",
              "      display:flex;\n",
              "      gap: 12px;\n",
              "    }\n",
              "\n",
              "    .colab-df-convert {\n",
              "      background-color: #E8F0FE;\n",
              "      border: none;\n",
              "      border-radius: 50%;\n",
              "      cursor: pointer;\n",
              "      display: none;\n",
              "      fill: #1967D2;\n",
              "      height: 32px;\n",
              "      padding: 0 0 0 0;\n",
              "      width: 32px;\n",
              "    }\n",
              "\n",
              "    .colab-df-convert:hover {\n",
              "      background-color: #E2EBFA;\n",
              "      box-shadow: 0px 1px 2px rgba(60, 64, 67, 0.3), 0px 1px 3px 1px rgba(60, 64, 67, 0.15);\n",
              "      fill: #174EA6;\n",
              "    }\n",
              "\n",
              "    .colab-df-buttons div {\n",
              "      margin-bottom: 4px;\n",
              "    }\n",
              "\n",
              "    [theme=dark] .colab-df-convert {\n",
              "      background-color: #3B4455;\n",
              "      fill: #D2E3FC;\n",
              "    }\n",
              "\n",
              "    [theme=dark] .colab-df-convert:hover {\n",
              "      background-color: #434B5C;\n",
              "      box-shadow: 0px 1px 3px 1px rgba(0, 0, 0, 0.15);\n",
              "      filter: drop-shadow(0px 1px 2px rgba(0, 0, 0, 0.3));\n",
              "      fill: #FFFFFF;\n",
              "    }\n",
              "  </style>\n",
              "\n",
              "    <script>\n",
              "      const buttonEl =\n",
              "        document.querySelector('#df-e00ad341-6d8e-48cc-bd65-1828148d1925 button.colab-df-convert');\n",
              "      buttonEl.style.display =\n",
              "        google.colab.kernel.accessAllowed ? 'block' : 'none';\n",
              "\n",
              "      async function convertToInteractive(key) {\n",
              "        const element = document.querySelector('#df-e00ad341-6d8e-48cc-bd65-1828148d1925');\n",
              "        const dataTable =\n",
              "          await google.colab.kernel.invokeFunction('convertToInteractive',\n",
              "                                                    [key], {});\n",
              "        if (!dataTable) return;\n",
              "\n",
              "        const docLinkHtml = 'Like what you see? Visit the ' +\n",
              "          '<a target=\"_blank\" href=https://colab.research.google.com/notebooks/data_table.ipynb>data table notebook</a>'\n",
              "          + ' to learn more about interactive tables.';\n",
              "        element.innerHTML = '';\n",
              "        dataTable['output_type'] = 'display_data';\n",
              "        await google.colab.output.renderOutput(dataTable, element);\n",
              "        const docLink = document.createElement('div');\n",
              "        docLink.innerHTML = docLinkHtml;\n",
              "        element.appendChild(docLink);\n",
              "      }\n",
              "    </script>\n",
              "  </div>\n",
              "\n",
              "\n",
              "<div id=\"df-922246a2-9c97-4522-a58f-0da576ee817c\">\n",
              "  <button class=\"colab-df-quickchart\" onclick=\"quickchart('df-922246a2-9c97-4522-a58f-0da576ee817c')\"\n",
              "            title=\"Suggest charts\"\n",
              "            style=\"display:none;\">\n",
              "\n",
              "<svg xmlns=\"http://www.w3.org/2000/svg\" height=\"24px\"viewBox=\"0 0 24 24\"\n",
              "     width=\"24px\">\n",
              "    <g>\n",
              "        <path d=\"M19 3H5c-1.1 0-2 .9-2 2v14c0 1.1.9 2 2 2h14c1.1 0 2-.9 2-2V5c0-1.1-.9-2-2-2zM9 17H7v-7h2v7zm4 0h-2V7h2v10zm4 0h-2v-4h2v4z\"/>\n",
              "    </g>\n",
              "</svg>\n",
              "  </button>\n",
              "\n",
              "<style>\n",
              "  .colab-df-quickchart {\n",
              "      --bg-color: #E8F0FE;\n",
              "      --fill-color: #1967D2;\n",
              "      --hover-bg-color: #E2EBFA;\n",
              "      --hover-fill-color: #174EA6;\n",
              "      --disabled-fill-color: #AAA;\n",
              "      --disabled-bg-color: #DDD;\n",
              "  }\n",
              "\n",
              "  [theme=dark] .colab-df-quickchart {\n",
              "      --bg-color: #3B4455;\n",
              "      --fill-color: #D2E3FC;\n",
              "      --hover-bg-color: #434B5C;\n",
              "      --hover-fill-color: #FFFFFF;\n",
              "      --disabled-bg-color: #3B4455;\n",
              "      --disabled-fill-color: #666;\n",
              "  }\n",
              "\n",
              "  .colab-df-quickchart {\n",
              "    background-color: var(--bg-color);\n",
              "    border: none;\n",
              "    border-radius: 50%;\n",
              "    cursor: pointer;\n",
              "    display: none;\n",
              "    fill: var(--fill-color);\n",
              "    height: 32px;\n",
              "    padding: 0;\n",
              "    width: 32px;\n",
              "  }\n",
              "\n",
              "  .colab-df-quickchart:hover {\n",
              "    background-color: var(--hover-bg-color);\n",
              "    box-shadow: 0 1px 2px rgba(60, 64, 67, 0.3), 0 1px 3px 1px rgba(60, 64, 67, 0.15);\n",
              "    fill: var(--button-hover-fill-color);\n",
              "  }\n",
              "\n",
              "  .colab-df-quickchart-complete:disabled,\n",
              "  .colab-df-quickchart-complete:disabled:hover {\n",
              "    background-color: var(--disabled-bg-color);\n",
              "    fill: var(--disabled-fill-color);\n",
              "    box-shadow: none;\n",
              "  }\n",
              "\n",
              "  .colab-df-spinner {\n",
              "    border: 2px solid var(--fill-color);\n",
              "    border-color: transparent;\n",
              "    border-bottom-color: var(--fill-color);\n",
              "    animation:\n",
              "      spin 1s steps(1) infinite;\n",
              "  }\n",
              "\n",
              "  @keyframes spin {\n",
              "    0% {\n",
              "      border-color: transparent;\n",
              "      border-bottom-color: var(--fill-color);\n",
              "      border-left-color: var(--fill-color);\n",
              "    }\n",
              "    20% {\n",
              "      border-color: transparent;\n",
              "      border-left-color: var(--fill-color);\n",
              "      border-top-color: var(--fill-color);\n",
              "    }\n",
              "    30% {\n",
              "      border-color: transparent;\n",
              "      border-left-color: var(--fill-color);\n",
              "      border-top-color: var(--fill-color);\n",
              "      border-right-color: var(--fill-color);\n",
              "    }\n",
              "    40% {\n",
              "      border-color: transparent;\n",
              "      border-right-color: var(--fill-color);\n",
              "      border-top-color: var(--fill-color);\n",
              "    }\n",
              "    60% {\n",
              "      border-color: transparent;\n",
              "      border-right-color: var(--fill-color);\n",
              "    }\n",
              "    80% {\n",
              "      border-color: transparent;\n",
              "      border-right-color: var(--fill-color);\n",
              "      border-bottom-color: var(--fill-color);\n",
              "    }\n",
              "    90% {\n",
              "      border-color: transparent;\n",
              "      border-bottom-color: var(--fill-color);\n",
              "    }\n",
              "  }\n",
              "</style>\n",
              "\n",
              "  <script>\n",
              "    async function quickchart(key) {\n",
              "      const quickchartButtonEl =\n",
              "        document.querySelector('#' + key + ' button');\n",
              "      quickchartButtonEl.disabled = true;  // To prevent multiple clicks.\n",
              "      quickchartButtonEl.classList.add('colab-df-spinner');\n",
              "      try {\n",
              "        const charts = await google.colab.kernel.invokeFunction(\n",
              "            'suggestCharts', [key], {});\n",
              "      } catch (error) {\n",
              "        console.error('Error during call to suggestCharts:', error);\n",
              "      }\n",
              "      quickchartButtonEl.classList.remove('colab-df-spinner');\n",
              "      quickchartButtonEl.classList.add('colab-df-quickchart-complete');\n",
              "    }\n",
              "    (() => {\n",
              "      let quickchartButtonEl =\n",
              "        document.querySelector('#df-922246a2-9c97-4522-a58f-0da576ee817c button');\n",
              "      quickchartButtonEl.style.display =\n",
              "        google.colab.kernel.accessAllowed ? 'block' : 'none';\n",
              "    })();\n",
              "  </script>\n",
              "</div>\n",
              "\n",
              "    </div>\n",
              "  </div>\n"
            ],
            "application/vnd.google.colaboratory.intrinsic+json": {
              "type": "dataframe",
              "summary": "{\n  \"name\": \"preprocess_data('merger_dataset\",\n  \"rows\": 16,\n  \"fields\": [\n    {\n      \"column\": \"month\",\n      \"properties\": {\n        \"dtype\": \"period[M]\",\n        \"num_unique_values\": 16,\n        \"samples\": [\n          \"2023-08\",\n          \"2023-09\",\n          \"2024-01\"\n        ],\n        \"semantic_type\": \"\",\n        \"description\": \"\"\n      }\n    },\n    {\n      \"column\": \"total_income\",\n      \"properties\": {\n        \"dtype\": \"number\",\n        \"std\": 5354324,\n        \"min\": 1200000,\n        \"max\": 19201015,\n        \"num_unique_values\": 16,\n        \"samples\": [\n          1390000,\n          1607000,\n          9735000\n        ],\n        \"semantic_type\": \"\",\n        \"description\": \"\"\n      }\n    },\n    {\n      \"column\": \"total_expense\",\n      \"properties\": {\n        \"dtype\": \"number\",\n        \"std\": 5147133,\n        \"min\": 1077068,\n        \"max\": 18971500,\n        \"num_unique_values\": 16,\n        \"samples\": [\n          1412950,\n          1443530,\n          11400361\n        ],\n        \"semantic_type\": \"\",\n        \"description\": \"\"\n      }\n    },\n    {\n      \"column\": \"net_cashflow\",\n      \"properties\": {\n        \"dtype\": \"number\",\n        \"std\": 1127372,\n        \"min\": -1907944,\n        \"max\": 2151279,\n        \"num_unique_values\": 16,\n        \"samples\": [\n          -22950,\n          163470,\n          -1665361\n        ],\n        \"semantic_type\": \"\",\n        \"description\": \"\"\n      }\n    }\n  ]\n}"
            }
          },
          "metadata": {},
          "execution_count": 3
        }
      ]
    },
    {
      "cell_type": "code",
      "source": [
        "#Min-Max Scaler Initialization\n",
        "scaler = MinMaxScaler(feature_range=(0, 1))"
      ],
      "metadata": {
        "id": "TMh0sHofNyT6"
      },
      "execution_count": null,
      "outputs": []
    },
    {
      "cell_type": "code",
      "source": [
        "def time_series(data):\n",
        "  # Rescaling dengan MinMaxScaler\n",
        "  total_income = scaler.fit_transform(data[['total_income']])\n",
        "  total_expense = scaler.fit_transform(data[['total_expense']])\n",
        "  net_cashflow = scaler.fit_transform(data[['net_cashflow']])\n",
        "\n",
        "  # Assign value variabel time dan series\n",
        "  time = pd.to_datetime(data['month'].astype(str)).tolist()\n",
        "  income = data['total_income'].tolist()\n",
        "  expense = data['total_expense'].tolist()\n",
        "  net_cashflow = data['net_cashflow'].tolist()\n",
        "\n",
        "  return time, income, expense, net_cashflow"
      ],
      "metadata": {
        "id": "B08wFEqzTTyq"
      },
      "execution_count": null,
      "outputs": []
    },
    {
      "cell_type": "code",
      "source": [
        "DATA = 'merger_dataset.json'\n",
        "TIME, INCOME, EXPENSE, NET_CASHFLOW = time_series(preprocess_data(DATA))\n",
        "\n",
        "INCOME_SCALED = scaler.inverse_transform(np.array(INCOME).reshape(-1,1)).flatten()\n",
        "EXPENSE_SCALED = scaler.inverse_transform(np.array(EXPENSE).reshape(-1,1)).flatten()\n",
        "NET_CASHFLOW_SCALED = scaler.inverse_transform(np.array(NET_CASHFLOW).reshape(-1,1)).flatten()"
      ],
      "metadata": {
        "id": "7Zr8g-N1T0JQ"
      },
      "execution_count": null,
      "outputs": []
    },
    {
      "cell_type": "code",
      "source": [
        "#Visualisasi Data\n",
        "\n",
        "def plot_value(time, value, label):\n",
        "  plt.plot(time, value, label = label)\n",
        "  plt.xlabel(\"Bulan Transaksi\")\n",
        "  plt.ylabel(\"Jumlah Uang\")\n",
        "  plt.gca().xaxis.set_major_formatter(DateFormatter(\"%Y-%m\"))\n",
        "  plt.gcf().autofmt_xdate()\n",
        "  plt.show()"
      ],
      "metadata": {
        "id": "mlKs8E-jUb3R"
      },
      "execution_count": null,
      "outputs": []
    },
    {
      "cell_type": "code",
      "source": [
        "plot_value(TIME, INCOME_SCALED, \"Pemasukan\")"
      ],
      "metadata": {
        "colab": {
          "base_uri": "https://localhost:8080/",
          "height": 448
        },
        "id": "7AFbWa34U9JS",
        "outputId": "7ab0f6c6-42a6-4641-94f7-402645cbf3fd"
      },
      "execution_count": null,
      "outputs": [
        {
          "output_type": "display_data",
          "data": {
            "text/plain": [
              "<Figure size 640x480 with 1 Axes>"
            ],
            "image/png": "[encoded data removed]"
          },
          "metadata": {}
        }
      ]
    },
    {
      "cell_type": "code",
      "source": [
        "plot_value(TIME, EXPENSE_SCALED, \"Pengeluaran\")"
      ],
      "metadata": {
        "colab": {
          "base_uri": "https://localhost:8080/",
          "height": 448
        },
        "id": "VhDi7GY2W2nF",
        "outputId": "90059ca3-a57c-4379-8730-2053123810b2"
      },
      "execution_count": null,
      "outputs": [
        {
          "output_type": "display_data",
          "data": {
            "text/plain": [
              "<Figure size 640x480 with 1 Axes>"
            ],
            "image/png": "[encoded data removed]"
          },
          "metadata": {}
        }
      ]
    },
    {
      "cell_type": "code",
      "source": [
        "plot_value(TIME, NET_CASHFLOW, \"Net Cashflow\")"
      ],
      "metadata": {
        "colab": {
          "base_uri": "https://localhost:8080/",
          "height": 448
        },
        "id": "tw1LVt5MW_J5",
        "outputId": "868554a8-f560-4411-94aa-05a70a8628e2"
      },
      "execution_count": null,
      "outputs": [
        {
          "output_type": "display_data",
          "data": {
            "text/plain": [
              "<Figure size 640x480 with 1 Axes>"
            ],
            "image/png": "[encoded data removed]"
          },
          "metadata": {}
        }
      ]
    },
    {
      "cell_type": "code",
      "source": [
        "# Format data JSON\n",
        "data_for_export = {\n",
        "  \"cashflow_analysis\": [\n",
        "    {\n",
        "      \"time\": TIME[i].strftime('%Y-%m'),\n",
        "      \"total_income\": INCOME[i],\n",
        "      \"total_expense\": EXPENSE[i],\n",
        "      \"net_cashflow\": NET_CASHFLOW[i]\n",
        "    }\n",
        "    for i in range(len(TIME))\n",
        "  ]\n",
        "}\n",
        "\n",
        "# Simpan ke JSON\n",
        "with open('clean_data.json', 'w') as json_file:\n",
        "    json.dump(data_for_export, json_file, indent=1)"
      ],
      "metadata": {
        "id": "UMpIMZoSXTvu"
      },
      "execution_count": null,
      "outputs": []
    },
    {
      "cell_type": "markdown",
      "source": [
        "# **Anomaly Detection**"
      ],
      "metadata": {
        "id": "TZeuWiKH4uA2"
      }
    },
    {
      "cell_type": "code",
      "source": [
        "import json\n",
        "import numpy as np\n",
        "import matplotlib.cm as cm\n",
        "import matplotlib.pyplot as plt\n",
        "from scipy.stats import multivariate_normal\n",
        "\n",
        "%matplotlib inline"
      ],
      "metadata": {
        "id": "7nNS58Fp41WS"
      },
      "execution_count": 142,
      "outputs": []
    },
    {
      "cell_type": "code",
      "source": [
        "def load_data(file_path):\n",
        "    with open(file_path, 'r') as json_file:\n",
        "        data = json.load(json_file)\n",
        "\n",
        "    # Extract numerical data for each time period\n",
        "    numerical_data = []\n",
        "    for entry in data['cashflow_analysis']:\n",
        "        numerical_data.append([\n",
        "            entry['total_income'],\n",
        "            entry['total_expense'],\n",
        "            entry['net_cashflow']\n",
        "        ])\n",
        "\n",
        "    # Convert to NumPy array\n",
        "    return np.array(numerical_data)"
      ],
      "metadata": {
        "id": "-huQza3QCKgI"
      },
      "execution_count": 143,
      "outputs": []
    },
    {
      "cell_type": "code",
      "source": [
        "def find_closest_centroids(X, centroids):\n",
        "    # Set K\n",
        "    K = centroids.shape[0]\n",
        "\n",
        "    # You need to return the following variables correctly\n",
        "    idx = np.zeros(X.shape[0], dtype=int)\n",
        "\n",
        "    for i in range(X.shape[0]):\n",
        "        # Array to hold distance between X[i] and each centroids[j]\n",
        "        distance = []\n",
        "        for j in range(centroids.shape[0]):\n",
        "            norm_ij = np.linalg.norm(X[i] - centroids[j])\n",
        "            distance.append(norm_ij)\n",
        "\n",
        "        idx[i] = np.argmin(distance)\n",
        "\n",
        "    return idx"
      ],
      "metadata": {
        "id": "jI9-C2CsAaGp"
      },
      "execution_count": 144,
      "outputs": []
    },
    {
      "cell_type": "code",
      "source": [
        "# Load an example dataset that we will be using\n",
        "X = load_data('clean_data.json')"
      ],
      "metadata": {
        "id": "z1ouDCR2Aphx"
      },
      "execution_count": 145,
      "outputs": []
    },
    {
      "cell_type": "code",
      "source": [
        "print(\"First five elements of X are:\\n\", X[:5])\n",
        "print('The shape of X is:', X.shape)"
      ],
      "metadata": {
        "id": "ywlHYas8AsA5",
        "outputId": "772ba23f-6b27-440c-9234-dbef0117ba07",
        "colab": {
          "base_uri": "https://localhost:8080/"
        }
      },
      "execution_count": 146,
      "outputs": [
        {
          "output_type": "stream",
          "name": "stdout",
          "text": [
            "First five elements of X are:\n",
            " [[1390000 1412950  -22950]\n",
            " [1607000 1443530  163470]\n",
            " [1510000 1652785 -142785]\n",
            " [1200000 1077068  122932]\n",
            " [1750000 1829508  -79508]]\n",
            "The shape of X is: (16, 3)\n"
          ]
        }
      ]
    },
    {
      "cell_type": "code",
      "source": [
        "# Select an initial set of centroids (3 Centroids) with 3 features to match the data\n",
        "initial_centroids = np.array([[3, 4, 5], [6, 7, 8], [8, 7, 6]])\n",
        "\n",
        "# Find closest centroids using initial_centroids\n",
        "idx = find_closest_centroids(X, initial_centroids)\n",
        "\n",
        "# Print closest centroids for the first three elements\n",
        "print(\"First three elements in idx are:\", idx[:3])"
      ],
      "metadata": {
        "id": "sLUDdwXZAukS",
        "outputId": "8e2cdea6-e811-4f0e-b37d-507972d5a0b0",
        "colab": {
          "base_uri": "https://localhost:8080/"
        }
      },
      "execution_count": 147,
      "outputs": [
        {
          "output_type": "stream",
          "name": "stdout",
          "text": [
            "First three elements in idx are: [2 2 2]\n"
          ]
        }
      ]
    },
    {
      "cell_type": "code",
      "source": [
        "import numpy as np\n",
        "\n",
        "def compute_centroids(X, idx, K):\n",
        "    m, n = X.shape  # Number of examples and features\n",
        "    centroids = np.zeros((K, n))\n",
        "\n",
        "    for k in range(K):\n",
        "        # Get all points assigned to cluster k\n",
        "        points_in_cluster = X[idx == k]\n",
        "\n",
        "        # Calculate the mean of these points to get the new centroid\n",
        "        if len(points_in_cluster) > 0:  # Avoid division by zero if cluster is empty\n",
        "            centroids[k] = np.mean(points_in_cluster, axis=0)\n",
        "\n",
        "    return centroids"
      ],
      "metadata": {
        "id": "CHHSz9yuAyI4"
      },
      "execution_count": 148,
      "outputs": []
    },
    {
      "cell_type": "code",
      "source": [
        "K = 3\n",
        "centroids = compute_centroids(X, idx, K)\n",
        "\n",
        "print(\"The centroids are:\", centroids)"
      ],
      "metadata": {
        "id": "4wJVdNDPA1cs",
        "outputId": "638c3177-8c93-459e-ed55-d707eb47247e",
        "colab": {
          "base_uri": "https://localhost:8080/"
        }
      },
      "execution_count": 149,
      "outputs": [
        {
          "output_type": "stream",
          "name": "stdout",
          "text": [
            "The centroids are: [[      0.           0.           0.    ]\n",
            " [      0.           0.           0.    ]\n",
            " [6303266.125  6174115.9375  129150.1875]]\n"
          ]
        }
      ]
    },
    {
      "cell_type": "code",
      "source": [
        "def plot_progress_kMeans(X, centroids, previous, idx, K, i):\n",
        "    # Plot the examples\n",
        "    plot_data_points(X, idx, K)\n",
        "\n",
        "    # Plot the centroids as black X's\n",
        "    plt.scatter(centroids[:, 0], centroids[:, 1], marker='x', c='k', s=20, linewidth=3)\n",
        "\n",
        "    # Plot the history of the centroids with lines\n",
        "    for j in range(centroids.shape[0]):\n",
        "        plt.plot([centroids[j, 0], previous[j, 0]], [centroids[j, 1], previous[j, 1]], c='k', linestyle='--')\n",
        "\n",
        "    # Title the plot\n",
        "    plt.title('Iteration number {}'.format(i + 1))"
      ],
      "metadata": {
        "id": "FXMpzszDD6uV"
      },
      "execution_count": 150,
      "outputs": []
    },
    {
      "cell_type": "code",
      "source": [
        "def plot_data_points(X, idx, K):\n",
        "    # Create a color map with K colors\n",
        "    cmap = cm.get_cmap('viridis', K) # Get the colormap object and assign it to cmap\n",
        "\n",
        "    # Plot each data point with the color corresponding to its cluster assignment\n",
        "    for i in range(X.shape[0]):\n",
        "        # Use cmap to get color for this cluster index:\n",
        "        plt.scatter(X[i, 0], X[i, 1], c=[cmap(int(idx[i]) % K)])"
      ],
      "metadata": {
        "id": "qJxoEPexGq7O"
      },
      "execution_count": 151,
      "outputs": []
    },
    {
      "cell_type": "code",
      "source": [
        "def run_kMeans(X, initial_centroids, max_iters=10, plot_progress=False):\n",
        "    # Initialize values\n",
        "    m, n = X.shape\n",
        "    K = initial_centroids.shape[0]\n",
        "    centroids = initial_centroids\n",
        "    previous_centroids = centroids\n",
        "    idx = np.zeros(m)\n",
        "    plt.figure(figsize=(8, 6))\n",
        "\n",
        "    # Run K-Means\n",
        "    for i in range(max_iters):\n",
        "\n",
        "        #Output progress\n",
        "        print(\"K-Means iteration %d/%d\" % (i, max_iters-1))\n",
        "\n",
        "        # For each example in X, assign it to the closest centroid\n",
        "        idx = find_closest_centroids(X, centroids)\n",
        "\n",
        "        # Optionally plot progress\n",
        "        if plot_progress:\n",
        "            plot_progress_kMeans(X, centroids, previous_centroids, idx, K, i)\n",
        "            previous_centroids = centroids\n",
        "\n",
        "        # Given the memberships, compute new centroids\n",
        "        centroids = compute_centroids(X, idx, K)\n",
        "    plt.show()\n",
        "\n",
        "    return centroids, idx"
      ],
      "metadata": {
        "id": "MimVlTQDA4k4"
      },
      "execution_count": 152,
      "outputs": []
    },
    {
      "cell_type": "code",
      "source": [
        "# Load an example dataset\n",
        "X = load_data('clean_data.json')\n",
        "\n",
        "# Set initial centroids\n",
        "initial_centroids = np.array([[3, 3, 3], [6, 2, 2], [8, 5, 5]])\n",
        "\n",
        "# Number of iterations\n",
        "max_iters = 100\n",
        "\n",
        "# Run K-Means\n",
        "centroids, idx = run_kMeans(X, initial_centroids, max_iters, plot_progress=True)"
      ],
      "metadata": {
        "id": "0_ObnRP0BLNG",
        "outputId": "22a7c2e7-cd70-45ec-f510-9aeda60ae175",
        "colab": {
          "base_uri": "https://localhost:8080/",
          "height": 1000
        }
      },
      "execution_count": 153,
      "outputs": [
        {
          "output_type": "stream",
          "name": "stdout",
          "text": [
            "K-Means iteration 0/99\n",
            "K-Means iteration 1/99\n",
            "K-Means iteration 2/99\n",
            "K-Means iteration 3/99\n"
          ]
        },
        {
          "output_type": "stream",
          "name": "stderr",
          "text": [
            "<ipython-input-151-59d450833520>:3: MatplotlibDeprecationWarning: The get_cmap function was deprecated in Matplotlib 3.7 and will be removed two minor releases later. Use ``matplotlib.colormaps[name]`` or ``matplotlib.colormaps.get_cmap(obj)`` instead.\n",
            "  cmap = cm.get_cmap('viridis', K) # Get the colormap object and assign it to cmap\n"
          ]
        },
        {
          "output_type": "stream",
          "name": "stdout",
          "text": [
            "K-Means iteration 4/99\n",
            "K-Means iteration 5/99\n",
            "K-Means iteration 6/99\n",
            "K-Means iteration 7/99\n",
            "K-Means iteration 8/99\n",
            "K-Means iteration 9/99\n",
            "K-Means iteration 10/99\n",
            "K-Means iteration 11/99\n",
            "K-Means iteration 12/99\n",
            "K-Means iteration 13/99\n",
            "K-Means iteration 14/99\n",
            "K-Means iteration 15/99\n",
            "K-Means iteration 16/99\n",
            "K-Means iteration 17/99\n",
            "K-Means iteration 18/99\n",
            "K-Means iteration 19/99\n",
            "K-Means iteration 20/99\n",
            "K-Means iteration 21/99\n",
            "K-Means iteration 22/99\n",
            "K-Means iteration 23/99\n",
            "K-Means iteration 24/99\n",
            "K-Means iteration 25/99\n",
            "K-Means iteration 26/99\n",
            "K-Means iteration 27/99\n",
            "K-Means iteration 28/99\n",
            "K-Means iteration 29/99\n",
            "K-Means iteration 30/99\n",
            "K-Means iteration 31/99\n",
            "K-Means iteration 32/99\n",
            "K-Means iteration 33/99\n",
            "K-Means iteration 34/99\n",
            "K-Means iteration 35/99\n",
            "K-Means iteration 36/99\n",
            "K-Means iteration 37/99\n",
            "K-Means iteration 38/99\n",
            "K-Means iteration 39/99\n",
            "K-Means iteration 40/99\n",
            "K-Means iteration 41/99\n",
            "K-Means iteration 42/99\n",
            "K-Means iteration 43/99\n",
            "K-Means iteration 44/99\n",
            "K-Means iteration 45/99\n",
            "K-Means iteration 46/99\n",
            "K-Means iteration 47/99\n",
            "K-Means iteration 48/99\n",
            "K-Means iteration 49/99\n",
            "K-Means iteration 50/99\n",
            "K-Means iteration 51/99\n",
            "K-Means iteration 52/99\n",
            "K-Means iteration 53/99\n",
            "K-Means iteration 54/99\n",
            "K-Means iteration 55/99\n",
            "K-Means iteration 56/99\n",
            "K-Means iteration 57/99\n",
            "K-Means iteration 58/99\n",
            "K-Means iteration 59/99\n",
            "K-Means iteration 60/99\n",
            "K-Means iteration 61/99\n",
            "K-Means iteration 62/99\n",
            "K-Means iteration 63/99\n",
            "K-Means iteration 64/99\n",
            "K-Means iteration 65/99\n",
            "K-Means iteration 66/99\n",
            "K-Means iteration 67/99\n",
            "K-Means iteration 68/99\n",
            "K-Means iteration 69/99\n",
            "K-Means iteration 70/99\n",
            "K-Means iteration 71/99\n",
            "K-Means iteration 72/99\n",
            "K-Means iteration 73/99\n",
            "K-Means iteration 74/99\n",
            "K-Means iteration 75/99\n",
            "K-Means iteration 76/99\n",
            "K-Means iteration 77/99\n",
            "K-Means iteration 78/99\n",
            "K-Means iteration 79/99\n",
            "K-Means iteration 80/99\n",
            "K-Means iteration 81/99\n",
            "K-Means iteration 82/99\n",
            "K-Means iteration 83/99\n",
            "K-Means iteration 84/99\n",
            "K-Means iteration 85/99\n",
            "K-Means iteration 86/99\n",
            "K-Means iteration 87/99\n",
            "K-Means iteration 88/99\n",
            "K-Means iteration 89/99\n",
            "K-Means iteration 90/99\n",
            "K-Means iteration 91/99\n",
            "K-Means iteration 92/99\n",
            "K-Means iteration 93/99\n",
            "K-Means iteration 94/99\n",
            "K-Means iteration 95/99\n",
            "K-Means iteration 96/99\n",
            "K-Means iteration 97/99\n",
            "K-Means iteration 98/99\n",
            "K-Means iteration 99/99\n"
          ]
        },
        {
          "output_type": "display_data",
          "data": {
            "text/plain": [
              "<Figure size 800x600 with 1 Axes>"
            ],
            "image/png": "[encoded data removed]"
          },
          "metadata": {}
        }
      ]
    },
    {
      "cell_type": "code",
      "source": [
        "def kMeans_init_centroids(X, K):\n",
        "    # Randomly reorder the indices of examples\n",
        "    randidx = np.random.permutation(X.shape[0])\n",
        "\n",
        "    # Take the first K examples as centroids\n",
        "    centroids = X[randidx[:K]]\n",
        "\n",
        "    return centroids"
      ],
      "metadata": {
        "id": "d_a2UI7SBMD6"
      },
      "execution_count": 154,
      "outputs": []
    },
    {
      "cell_type": "code",
      "source": [
        "# Set number of centroids and max number of iterations\n",
        "K = 3\n",
        "max_iters = 100\n",
        "\n",
        "# Set initial centroids by picking random examples from the dataset\n",
        "initial_centroids = kMeans_init_centroids(X, K)\n",
        "\n",
        "# Run K-Means\n",
        "centroids, idx = run_kMeans(X, initial_centroids, max_iters, plot_progress=True)"
      ],
      "metadata": {
        "id": "ibNxUdsPBO_a",
        "outputId": "b25250c5-ee02-4a46-a201-5e7f6aa1dbb1",
        "colab": {
          "base_uri": "https://localhost:8080/",
          "height": 1000
        }
      },
      "execution_count": 155,
      "outputs": [
        {
          "output_type": "stream",
          "name": "stdout",
          "text": [
            "K-Means iteration 0/99\n",
            "K-Means iteration 1/99\n",
            "K-Means iteration 2/99\n",
            "K-Means iteration 3/99\n",
            "K-Means iteration 4/99\n"
          ]
        },
        {
          "output_type": "stream",
          "name": "stderr",
          "text": [
            "<ipython-input-151-59d450833520>:3: MatplotlibDeprecationWarning: The get_cmap function was deprecated in Matplotlib 3.7 and will be removed two minor releases later. Use ``matplotlib.colormaps[name]`` or ``matplotlib.colormaps.get_cmap(obj)`` instead.\n",
            "  cmap = cm.get_cmap('viridis', K) # Get the colormap object and assign it to cmap\n"
          ]
        },
        {
          "output_type": "stream",
          "name": "stdout",
          "text": [
            "K-Means iteration 5/99\n",
            "K-Means iteration 6/99\n",
            "K-Means iteration 7/99\n",
            "K-Means iteration 8/99\n",
            "K-Means iteration 9/99\n",
            "K-Means iteration 10/99\n",
            "K-Means iteration 11/99\n",
            "K-Means iteration 12/99\n",
            "K-Means iteration 13/99\n",
            "K-Means iteration 14/99\n",
            "K-Means iteration 15/99\n",
            "K-Means iteration 16/99\n",
            "K-Means iteration 17/99\n",
            "K-Means iteration 18/99\n",
            "K-Means iteration 19/99\n",
            "K-Means iteration 20/99\n",
            "K-Means iteration 21/99\n",
            "K-Means iteration 22/99\n",
            "K-Means iteration 23/99\n",
            "K-Means iteration 24/99\n",
            "K-Means iteration 25/99\n",
            "K-Means iteration 26/99\n",
            "K-Means iteration 27/99\n",
            "K-Means iteration 28/99\n",
            "K-Means iteration 29/99\n",
            "K-Means iteration 30/99\n",
            "K-Means iteration 31/99\n",
            "K-Means iteration 32/99\n",
            "K-Means iteration 33/99\n",
            "K-Means iteration 34/99\n",
            "K-Means iteration 35/99\n",
            "K-Means iteration 36/99\n",
            "K-Means iteration 37/99\n",
            "K-Means iteration 38/99\n",
            "K-Means iteration 39/99\n",
            "K-Means iteration 40/99\n",
            "K-Means iteration 41/99\n",
            "K-Means iteration 42/99\n",
            "K-Means iteration 43/99\n",
            "K-Means iteration 44/99\n",
            "K-Means iteration 45/99\n",
            "K-Means iteration 46/99\n",
            "K-Means iteration 47/99\n",
            "K-Means iteration 48/99\n",
            "K-Means iteration 49/99\n",
            "K-Means iteration 50/99\n",
            "K-Means iteration 51/99\n",
            "K-Means iteration 52/99\n",
            "K-Means iteration 53/99\n",
            "K-Means iteration 54/99\n",
            "K-Means iteration 55/99\n",
            "K-Means iteration 56/99\n",
            "K-Means iteration 57/99\n",
            "K-Means iteration 58/99\n",
            "K-Means iteration 59/99\n",
            "K-Means iteration 60/99\n",
            "K-Means iteration 61/99\n",
            "K-Means iteration 62/99\n",
            "K-Means iteration 63/99\n",
            "K-Means iteration 64/99\n",
            "K-Means iteration 65/99\n",
            "K-Means iteration 66/99\n",
            "K-Means iteration 67/99\n",
            "K-Means iteration 68/99\n",
            "K-Means iteration 69/99\n",
            "K-Means iteration 70/99\n",
            "K-Means iteration 71/99\n",
            "K-Means iteration 72/99\n",
            "K-Means iteration 73/99\n",
            "K-Means iteration 74/99\n",
            "K-Means iteration 75/99\n",
            "K-Means iteration 76/99\n",
            "K-Means iteration 77/99\n",
            "K-Means iteration 78/99\n",
            "K-Means iteration 79/99\n",
            "K-Means iteration 80/99\n",
            "K-Means iteration 81/99\n",
            "K-Means iteration 82/99\n",
            "K-Means iteration 83/99\n",
            "K-Means iteration 84/99\n",
            "K-Means iteration 85/99\n",
            "K-Means iteration 86/99\n",
            "K-Means iteration 87/99\n",
            "K-Means iteration 88/99\n",
            "K-Means iteration 89/99\n",
            "K-Means iteration 90/99\n",
            "K-Means iteration 91/99\n",
            "K-Means iteration 92/99\n",
            "K-Means iteration 93/99\n",
            "K-Means iteration 94/99\n",
            "K-Means iteration 95/99\n",
            "K-Means iteration 96/99\n",
            "K-Means iteration 97/99\n",
            "K-Means iteration 98/99\n",
            "K-Means iteration 99/99\n"
          ]
        },
        {
          "output_type": "display_data",
          "data": {
            "text/plain": [
              "<Figure size 800x600 with 1 Axes>"
            ],
            "image/png": "[encoded data removed]"
          },
          "metadata": {}
        }
      ]
    }
  ]
}